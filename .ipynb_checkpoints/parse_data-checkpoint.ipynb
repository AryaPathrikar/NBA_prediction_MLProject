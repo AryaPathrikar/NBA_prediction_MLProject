{
 "cells": [
  {
   "cell_type": "code",
   "execution_count": 2,
   "id": "0051ba30",
   "metadata": {},
   "outputs": [],
   "source": [
    "#parsing our scores into pandas dataframe which we can use in ML later\n",
    "import os\n",
    "import p\n",
    "andas as pd\n",
    "from bs4 import BeautifulSoup"
   ]
  },
  {
   "cell_type": "code",
   "execution_count": 3,
   "id": "27133bee",
   "metadata": {
    "scrolled": true
   },
   "outputs": [],
   "source": [
    "SCORE_DIR = \"data/scores\""
   ]
  },
  {
   "cell_type": "code",
   "execution_count": 4,
   "id": "39305dc4",
   "metadata": {},
   "outputs": [],
   "source": [
    "box_scores = os.listdir(SCORE_DIR)"
   ]
  },
  {
   "cell_type": "code",
   "execution_count": 6,
   "id": "f95dca2a",
   "metadata": {},
   "outputs": [
    {
     "data": {
      "text/plain": [
       "[]"
      ]
     },
     "execution_count": 6,
     "metadata": {},
     "output_type": "execute_result"
    }
   ],
   "source": [
    "len(box_scores)"
   ]
  },
  {
   "cell_type": "code",
   "execution_count": null,
   "id": "ac013ef0",
   "metadata": {},
   "outputs": [],
   "source": [
    "box_scores = [os.path.join(SCORE_DIR, f) for f in box_scores if f.endswith(\".html\")]  #gives full path to box scores"
   ]
  },
  {
   "cell_type": "code",
   "execution_count": null,
   "id": "279a8a8d",
   "metadata": {},
   "outputs": [],
   "source": [
    "#we will do a little bit of cleanup before parsing the code by removing the column headings, etc\n",
    "\n",
    "def parse_htlm(box_score):\n",
    "    with open(box_score) as f:\n",
    "        html = f.read() #read it into html variable\n",
    "        \n",
    "    soup = BeautifulSoup(html) #creating an instance to parse it\n",
    "    [s.decompose() for s in soup.select(\"tr.over_header\")] #selects pieces we want to remove (the column headings, etc) #returns a list\n",
    "    [s.decompose() for s in soup.select(\"tr.thread\")]\n",
    "    return soup"
   ]
  },
  {
   "cell_type": "code",
   "execution_count": null,
   "id": "d9a86a0b",
   "metadata": {},
   "outputs": [],
   "source": [
    "#reading the score from the data\n",
    "\n",
    "def read_line_score(soup):\n",
    "    line_score = pd.read_html(str(soup), attrs={\"id\": \"line_score\"})[0] # ID = line_score #returns dataframe\n",
    "    cols = list(line_score.columns) #fixing the column names\n",
    "    cols[0] = \"team\"\n",
    "    cols[-1] = \"total\"\n",
    "    line_score.columns = cols\n",
    "    \n",
    "    line_score = line_score[[\"team\", \"total\"]] #the points are given as scores per quarter, hence we combine all to compare diff games with diff quarters\n",
    "    return line_score"
   ]
  },
  {
   "cell_type": "code",
   "execution_count": null,
   "id": "e2e36eae",
   "metadata": {},
   "outputs": [],
   "source": [
    "#reading the stats\n",
    "\n",
    "def  read_stats(soup, team, stats):\n",
    "    df = pd.read_html(str(soup), attrs={\"id\": f\"box-{team}-game-{stat}\"}, index_col=0)[0]\n",
    "    df = df.apply(pd.to_numeric, errors=\"coerce\") #convert columns to numeric values\n",
    "    return df"
   ]
  },
  {
   "cell_type": "code",
   "execution_count": null,
   "id": "c47c92ae",
   "metadata": {},
   "outputs": [],
   "source": [
    "#to get the season number\n",
    "def read_season_info(soup):\n",
    "    nav = soup.select(\"#bottom_nav_container\")[0]\n",
    "    hrefs = [a[\"href\"] for a in nav.find_all(\"a\")]\n",
    "    season = os.path.basename(hrefs[1]).split(\"_\")[0]\n",
    "    return season"
   ]
  },
  {
   "cell_type": "code",
   "execution_count": null,
   "id": "696db4e3",
   "metadata": {},
   "outputs": [],
   "source": [
    "base_cols = None\n",
    "games = []\n",
    "\n",
    "box_score = box_scores[0]\n",
    "\n",
    "for box_score in box_scores: \n",
    "    soup = parse_html(box_score)\n",
    "    line_score = read_line_score(soup)\n",
    "    teams = list(line_score[\"team\"])\n",
    "\n",
    "    summaries = [] #contains summary for both teams\n",
    "    for team in teams:\n",
    "        basic = read_stats(soup, team, \"basic\") #reading basic stats\n",
    "        advanced = read_stats(soup, team, \"advanced\") #reading advanced stats\n",
    "    \n",
    "        totals = pd.concat([basic.iloc[-1,:], advanced.iloc[-1,:]]) #to compress #concat last row of basic and advanced dataframe we do not need more data from one game\n",
    "        totals.index = totals.index.str.lower() #converts column names in lower case\n",
    "    \n",
    "        maxes = pd.concat([basic.iloc[:-1,:].max(), advanced.iloc[:-1,:].max()]) #to compress data, we take the player who scored highest\n",
    "        maxes.index = maxes.index.str.lower() + \"_max\" #change index of maxes for pandas to treat them as separate columns\n",
    "    \n",
    "        summary = pd.concat([totals, maxes])\n",
    "    \n",
    "        #we have 100 stats for one game, 200 stats for another; we should have consistent stats\n",
    "        if bas_cols is None:\n",
    "            base_cols = list(summary.index.drop_duplicates(keep = \"first\")) #removing duplicate values\n",
    "            base_cols = [b for b in base_cols if \"bpm\" not in b]\n",
    "        \n",
    "        summary = summary[base_cols]\n",
    "    \n",
    "        summaries.append(summary) #appending both the team summaries\n",
    "    \n",
    "    summary = pd.concat(summaries, axis=1).T #.T to transform the rows to columns\n",
    "\n",
    "    game = pd.concat([summary, line_score], axis=1) #concat line_score column to summary\n",
    "\n",
    "    game[\"home\"] = [0, 1]\n",
    "    game_opp = game.iloc[::-1].reset_index() #reversing the dataframe\n",
    "    game_opp.columns += \"_opp\" #remaining the columns for the opposite team\n",
    "\n",
    "    full_game = pd.concat([game, game_opp], axis=1)\n",
    "\n",
    "    full_game[\"season\"] = read_season_info(soup)\n",
    "\n",
    "    full_game[\"date\"] = os.path.basename(box_score)[:8] #to get the date (upto 8 chars)\n",
    "    full_game[\"date\"] = pd.to_datetime(full_game[\"date\"], format=\"%Y%m%d\")\n",
    "\n",
    "    full_game[\"won\"] = full_game[\"total\"] > full_game[\"total_opp\"]\n",
    "    games.append(full_game)\n",
    "    \n",
    "    if len(games)%100 == 0:\n",
    "        print(f\"{len(games)} / {len(box_scores)}\")"
   ]
  },
  {
   "cell_type": "code",
   "execution_count": null,
   "id": "161a44d9",
   "metadata": {},
   "outputs": [],
   "source": [
    "games_df = pd.concat(games, ignore_index = True)"
   ]
  },
  {
   "cell_type": "code",
   "execution_count": null,
   "id": "9ad33687",
   "metadata": {},
   "outputs": [],
   "source": [
    "games_df.to_csv(\"nba_games.csv\")"
   ]
  }
 ],
 "metadata": {
  "kernelspec": {
   "display_name": "Python 3 (ipykernel)",
   "language": "python",
   "name": "python3"
  },
  "language_info": {
   "codemirror_mode": {
    "name": "ipython",
    "version": 3
   },
   "file_extension": ".py",
   "mimetype": "text/x-python",
   "name": "python",
   "nbconvert_exporter": "python",
   "pygments_lexer": "ipython3",
   "version": "3.10.9"
  }
 },
 "nbformat": 4,
 "nbformat_minor": 5
}
