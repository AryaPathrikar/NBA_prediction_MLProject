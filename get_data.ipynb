{
 "cells": [
  {
   "cell_type": "code",
   "execution_count": 1,
   "id": "ca89c10a",
   "metadata": {},
   "outputs": [],
   "source": [
    "# https://youtu.be/o6Ih934hADU?si=GO3OXGZxdX0jMMx4\n",
    "\n",
    "import os\n",
    "from bs4 import BeautifulSoup\n",
    "\n",
    "#to get html code from a certain page on browser\n",
    "from playwright.async_api import async_playwright, TimeoutError as PlaywrightTimeout\n",
    "\n",
    "import time\n",
    "import pandas as pd"
   ]
  },
  {
   "cell_type": "code",
   "execution_count": 2,
   "id": "d7277289",
   "metadata": {},
   "outputs": [],
   "source": [
    "SEASONS = list(range(2019, 2024))"
   ]
  },
  {
   "cell_type": "code",
   "execution_count": 3,
   "id": "d8fc5853",
   "metadata": {},
   "outputs": [
    {
     "data": {
      "text/plain": [
       "[2019, 2020, 2021, 2022, 2023]"
      ]
     },
     "execution_count": 3,
     "metadata": {},
     "output_type": "execute_result"
    }
   ],
   "source": [
    "SEASONS"
   ]
  },
  {
   "cell_type": "code",
   "execution_count": 4,
   "id": "cababc36",
   "metadata": {},
   "outputs": [],
   "source": [
    "DATA_DIR = \"data\"\n",
    "STANDINGS_DIR = os.path.join(DATA_DIR, \"standings\")\n",
    "SCORES_DIR = os.path.join(DATA_DIR, \"scores\")"
   ]
  },
  {
   "cell_type": "code",
   "execution_count": 5,
   "id": "453da73b",
   "metadata": {},
   "outputs": [],
   "source": [
    "#using asynchronous function because we want to take the html code and run it in the background and it may take a lot of time\n",
    "# using playwright asynchronously and other code will implement with this running in the background\n",
    "\n",
    "async def get_html(url, selector, sleep=150, retries=20):\n",
    "    html = None\n",
    "    for i in range(1, retries+1):\n",
    "        time.sleep(sleep * i)  #does not let it scrap too fast otherwise we might get banned by the website, pauses prog.\n",
    "        \n",
    "        try:\n",
    "            async with async_playwright() as p:\n",
    "                browser = await p.firefox.launch() # launches browser and wait till its done launching (async func)\n",
    "                page = await browser.new_page()\n",
    "                await page.goto(url)\n",
    "                print(await page.title())\n",
    "                html = await page.inner_html(selector)\n",
    "        except PlaywrightTimeout:\n",
    "            print(f\"Timeout error on {url}\")\n",
    "            continue\n",
    "        else:\n",
    "            break\n",
    "    return html"
   ]
  },
  {
   "cell_type": "code",
   "execution_count": 6,
   "id": "124bcc52",
   "metadata": {},
   "outputs": [],
   "source": [
    "async def scrape_season(season):\n",
    "    url = f\"https://www.basketball-reference.com/leagues/NBA_{season}_games.html\" #we pass in a season\n",
    "    html = await get_html(url, \"#content .filter\") #css selector; finding element with id #content, inside that element is class .filter; \n",
    "    # html contains all a elements, which is a link\n",
    "    \n",
    "    # grab all the a tags\n",
    "    soup = BeautifulSoup(html)\n",
    "    links = soup.find_all(\"a\") # finds all the a tags\n",
    "    href = [l[\"href\"] for l in links] #extract all the a tags #we get get individual links to our pages\n",
    "    standings_pages = [f\"https://basketball-reference.com{l}\" for l in href] #all links we get, that we can scrap\n",
    "    \n",
    "    for url in standings_pages:\n",
    "        save_path = os.path.join(STANDINGS_DIR, url.split(\"/\")[-1]) #loop through each standing_pages; save it and process later\n",
    "        #splitting based on forward slash in the link and gives only last part; saving it in standing_dir\n",
    "        \n",
    "        if os.path.exists(save_path): #if we already scrapped it, don't scrap again\n",
    "            continue\n",
    "            \n",
    "        html = await get_html(url, \"#all_schedule\") # getting the table of each year from website with scores with id=#all_schedules = div element\n",
    "        with open(save_path,\"w+\") as f:\n",
    "            f.write(html)"
   ]
  },
  {
   "cell_type": "code",
   "execution_count": 7,
   "id": "ffd15988",
   "metadata": {},
   "outputs": [
    {
     "name": "stdout",
     "output_type": "stream",
     "text": [
      "Timeout error on https://www.basketball-reference.com/leagues/NBA_2019_games.html\n",
      "Timeout error on https://www.basketball-reference.com/leagues/NBA_2019_games.html\n",
      "2018-19 NBA Schedule | Basketball-Reference.com\n",
      "2019-20 NBA Schedule | Basketball-Reference.com\n",
      "2020-21 NBA Schedule | Basketball-Reference.com\n",
      "2021-22 NBA Schedule | Basketball-Reference.com\n",
      "Timeout error on https://www.basketball-reference.com/leagues/NBA_2023_games.html\n",
      "2022-23 NBA Schedule | Basketball-Reference.com\n"
     ]
    }
   ],
   "source": [
    "for season in SEASONS:\n",
    "    await scrape_season(season)"
   ]
  },
  {
   "cell_type": "code",
   "execution_count": 8,
   "id": "81f9fec5",
   "metadata": {},
   "outputs": [],
   "source": [
    "standings_files = os.listdir(STANDINGS_DIR) # all files have been saved in this folder"
   ]
  },
  {
   "cell_type": "code",
   "execution_count": 9,
   "id": "1568e438",
   "metadata": {},
   "outputs": [
    {
     "data": {
      "text/plain": [
       "['NBA_2022_games-october.html',\n",
       " 'NBA_2021_games-june.html',\n",
       " 'NBA_2020_games-march.html',\n",
       " 'NBA_2020_games-september.html',\n",
       " 'NBA_2020_games-january.html',\n",
       " 'NBA_2020_games-august.html',\n",
       " 'NBA_2023_games-may.html',\n",
       " 'NBA_2019_games-april.html',\n",
       " 'NBA_2023_games-april.html',\n",
       " 'NBA_2022_games-may.html',\n",
       " 'NBA_2019_games-february.html',\n",
       " 'NBA_2018_games-february.html',\n",
       " 'NBA_2023_games-january.html',\n",
       " 'NBA_2016_games-april.html',\n",
       " 'NBA_2021_games-march.html',\n",
       " 'NBA_2018_games-january.html',\n",
       " 'NBA_2017_games-february.html',\n",
       " 'NBA_2016_games-february.html',\n",
       " 'NBA_2017_games-october.html',\n",
       " 'NBA_2018_games-april.html',\n",
       " 'NBA_2020_games-december.html',\n",
       " 'NBA_2019_games-october.html',\n",
       " 'NBA_2020_games-november.html',\n",
       " 'NBA_2021_games-may.html',\n",
       " 'NBA_2021_games-december.html',\n",
       " 'NBA_2022_games-april.html',\n",
       " 'NBA_2022_games-december.html',\n",
       " 'NBA_2023_games-november.html',\n",
       " 'NBA_2023_games-december.html',\n",
       " 'NBA_2017_games-april.html',\n",
       " 'NBA_2022_games-november.html',\n",
       " 'NBA_2016_games-january.html',\n",
       " 'NBA_2018_games-october.html',\n",
       " 'NBA_2017_games-march.html',\n",
       " 'NBA_2021_games-february.html',\n",
       " 'NBA_2020_games-february.html',\n",
       " 'NBA_2017_games-june.html',\n",
       " 'NBA_2022_games-march.html',\n",
       " 'NBA_2023_games-february.html',\n",
       " 'NBA_2018_games-june.html',\n",
       " 'NBA_2017_games-january.html',\n",
       " 'NBA_2022_games-february.html',\n",
       " 'NBA_2017_games-november.html',\n",
       " 'NBA_2016_games-december.html',\n",
       " 'NBA_2021_games-july.html',\n",
       " 'NBA_2016_games-november.html',\n",
       " 'NBA_2022_games-june.html',\n",
       " 'NBA_2018_games-march.html',\n",
       " 'NBA_2017_games-december.html',\n",
       " 'NBA_2019_games-january.html',\n",
       " 'NBA_2016_games-october.html',\n",
       " 'NBA_2021_games-april.html',\n",
       " 'NBA_2019_games-november.html',\n",
       " 'NBA_2020_games-july.html',\n",
       " 'NBA_2018_games-december.html',\n",
       " 'NBA_2022_games-january.html',\n",
       " 'NBA_2018_games-november.html',\n",
       " 'NBA_2016_games-march.html',\n",
       " 'NBA_2019_games-december.html',\n",
       " 'NBA_2023_games-june.html',\n",
       " 'NBA_2019_games-may.html',\n",
       " 'NBA_2020_games-october.html',\n",
       " 'NBA_2016_games-may.html',\n",
       " 'NBA_2023_games-march.html',\n",
       " 'NBA_2019_games-march.html',\n",
       " 'NBA_2017_games-may.html',\n",
       " 'NBA_2016_games-june.html',\n",
       " 'NBA_2023_games-october.html',\n",
       " 'NBA_2019_games-june.html',\n",
       " 'NBA_2018_games-may.html',\n",
       " 'NBA_2021_games-january.html']"
      ]
     },
     "execution_count": 9,
     "metadata": {},
     "output_type": "execute_result"
    }
   ],
   "source": [
    "standings_files"
   ]
  },
  {
   "cell_type": "code",
   "execution_count": 10,
   "id": "00074388",
   "metadata": {},
   "outputs": [],
   "source": [
    "async def scrape_game(standings_file):\n",
    "    with open(standings_file, 'r') as f: #accessing single file\n",
    "        html = f.read()\n",
    "\n",
    "    soup = BeautifulSoup(html) #getting the link to the invidual box scores by getting the 'a' element\n",
    "    links = soup.find_all(\"a\")\n",
    "    href = [l.get(\"href\") for l in links] # only get the main link not http...\n",
    "    box_scores = [l for l in href if l and \"boxscore\" in l and \".html\" in l]\n",
    "    box_scores = [f\"https://www.basketball-reference.com{l}\" for l in box_scores]\n",
    "\n",
    "    for url in box_scores:\n",
    "        save_path = os.path.join(SCORES_DIR, url.split(\"/\")[-1])\n",
    "        if os.path.exists(save_path):\n",
    "            continue\n",
    "\n",
    "        html = await get_html(url, \"#content\")\n",
    "        if not html:   #not saving html twice\n",
    "            continue\n",
    "        with open(save_path, \"w+\") as f:\n",
    "            f.write(html)"
   ]
  },
  {
   "cell_type": "code",
   "execution_count": 11,
   "id": "85742008",
   "metadata": {},
   "outputs": [],
   "source": [
    "standings_files = [s for s in standings_files if \".html\" in s] #filters out any other weird file in the directory created by jupyter,mac, etc"
   ]
  },
  {
   "cell_type": "code",
   "execution_count": null,
   "id": "1a8160e9",
   "metadata": {},
   "outputs": [
    {
     "name": "stdout",
     "output_type": "stream",
     "text": [
      "Nets vs Bucks, October 19, 2021 | Basketball-Reference.com\n",
      "Timeout error on https://www.basketball-reference.com/boxscores/202110190LAL.html\n",
      "Warriors vs Lakers, October 19, 2021 | Basketball-Reference.com\n",
      "Pacers vs Hornets, October 20, 2021 | Basketball-Reference.com\n",
      "Bulls vs Pistons, October 20, 2021 | Basketball-Reference.com\n",
      "Celtics vs Knicks, October 20, 2021 | Basketball-Reference.com\n",
      "Timeout error on https://www.basketball-reference.com/boxscores/202110200TOR.html\n",
      "Wizards vs Raptors, October 20, 2021 | Basketball-Reference.com\n",
      "Timeout error on https://www.basketball-reference.com/boxscores/202110200MEM.html\n",
      "Cavaliers vs Grizzlies, October 20, 2021 | Basketball-Reference.com\n",
      "Timeout error on https://www.basketball-reference.com/boxscores/202110200MIN.html\n",
      "Rockets vs Timberwolves, October 20, 2021 | Basketball-Reference.com\n",
      "76ers vs Pelicans, October 20, 2021 | Basketball-Reference.com\n",
      "Magic vs Spurs, October 20, 2021 | Basketball-Reference.com\n",
      "Timeout error on https://www.basketball-reference.com/boxscores/202110200UTA.html\n",
      "Thunder vs Jazz, October 20, 2021 | Basketball-Reference.com\n",
      "Timeout error on https://www.basketball-reference.com/boxscores/202110200POR.html\n",
      "Timeout error on https://www.basketball-reference.com/boxscores/202110200POR.html\n",
      "Kings vs Trail Blazers, October 20, 2021 | Basketball-Reference.com\n",
      "Nuggets vs Suns, October 20, 2021 | Basketball-Reference.com\n",
      "Timeout error on https://www.basketball-reference.com/boxscores/202110210ATL.html\n",
      "Mavericks vs Hawks, October 21, 2021 | Basketball-Reference.com\n",
      "Timeout error on https://www.basketball-reference.com/boxscores/202110210MIA.html\n",
      "Timeout error on https://www.basketball-reference.com/boxscores/202110210MIA.html\n",
      "Timeout error on https://www.basketball-reference.com/boxscores/202110210MIA.html\n"
     ]
    }
   ],
   "source": [
    "for f in standings_files:\n",
    "        filepath = os.path.join(STANDINGS_DIR, f)\n",
    "        \n",
    "        await scrape_game(filepath)"
   ]
  }
 ],
 "metadata": {
  "kernelspec": {
   "display_name": "Python 3 (ipykernel)",
   "language": "python",
   "name": "python3"
  },
  "language_info": {
   "codemirror_mode": {
    "name": "ipython",
    "version": 3
   },
   "file_extension": ".py",
   "mimetype": "text/x-python",
   "name": "python",
   "nbconvert_exporter": "python",
   "pygments_lexer": "ipython3",
   "version": "3.10.9"
  }
 },
 "nbformat": 4,
 "nbformat_minor": 5
}
